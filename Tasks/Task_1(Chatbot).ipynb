{
  "nbformat": 4,
  "nbformat_minor": 0,
  "metadata": {
    "colab": {
      "provenance": []
    },
    "kernelspec": {
      "name": "python3",
      "display_name": "Python 3"
    },
    "language_info": {
      "name": "python"
    }
  },
  "cells": [
    {
      "cell_type": "code",
      "execution_count": 3,
      "metadata": {
        "colab": {
          "base_uri": "https://localhost:8080/"
        },
        "id": "gptAICjUT4sc",
        "outputId": "43564ef5-7996-4eb2-dbce-63beeb9e56b6"
      },
      "outputs": [
        {
          "name": "stdout",
          "output_type": "stream",
          "text": [
            "Welcome to the FAQ Chatbot! Ask your questions below (type 'exit' to quit):\n",
            "You: Hello\n"
          ]
        },
        {
          "output_type": "stream",
          "name": "stderr",
          "text": [
            "<ipython-input-3-b299c1507cab>:24: UserWarning: [W007] The model you're using has no word vectors loaded, so the result of the Doc.similarity method will be based on the tagger, parser and NER, which may not give useful similarity judgements. This may happen if you're using one of the small models, e.g. `en_core_web_sm`, which don't ship with word vectors and only use context-sensitive tensors. You can always add your own word vectors, or use one of the larger models instead if available.\n",
            "  similarities = [user_query_doc.similarity(question_doc) for question_doc in question_docs]\n"
          ]
        },
        {
          "output_type": "stream",
          "name": "stdout",
          "text": [
            "Chatbot:  Hello! Hope you are having a wonderful day! Remember to recycle!\n",
            "You: What languages does your website support besides English?\n",
            "Chatbot:  Currently, our website and services are only available in English. We are working on adding more language options in the future to better serve our diverse customer base. Stay tuned for updates!\n",
            "You: What is your purpose?\n",
            "Chatbot:  My purpose is to assist you with any issues you might be facing.\n",
            "You: Who are you?\n",
            "Chatbot:  My name is E-CO and I'm here to assist you with any inquiries you might have.\n",
            "You: exit\n",
            "Chatbot: Goodbye!\n"
          ]
        }
      ],
      "source": [
        "import pandas as pd\n",
        "import spacy\n",
        "\n",
        "# Load the CSV file\n",
        "file_path = '/content/Chatbot.csv'\n",
        "chatbot_data = pd.read_csv(file_path)\n",
        "\n",
        "# Separate questions and answers\n",
        "questions = chatbot_data[chatbot_data['name'] == 'User']['line'].tolist()\n",
        "answers = chatbot_data[chatbot_data['name'] == 'ECO']['line'].tolist()\n",
        "\n",
        "# Ensure the questions and answers lists are aligned properly\n",
        "qa_pairs = list(zip(questions, answers))\n",
        "\n",
        "# Load SpaCy's smaller English language model\n",
        "nlp = spacy.load('en_core_web_sm')\n",
        "\n",
        "# Create a list of SpaCy documents for each question\n",
        "question_docs = [nlp(question) for question in questions]\n",
        "\n",
        "# Function to find the best matching question for a given user query\n",
        "def find_best_answer(user_query):\n",
        "    user_query_doc = nlp(user_query)\n",
        "    similarities = [user_query_doc.similarity(question_doc) for question_doc in question_docs]\n",
        "    best_match_idx = similarities.index(max(similarities))\n",
        "    return answers[best_match_idx]\n",
        "\n",
        "# Main loop to handle user input\n",
        "def main():\n",
        "    print(\"Welcome to the FAQ Chatbot! Ask your questions below (type 'exit' to quit):\")\n",
        "    while True:\n",
        "        user_query = input(\"You: \")\n",
        "        if user_query.lower() == 'exit':\n",
        "            print(\"Chatbot: Goodbye!\")\n",
        "            break\n",
        "        best_answer = find_best_answer(user_query)\n",
        "        print(f\"Chatbot: {best_answer}\")\n",
        "\n",
        "if __name__ == \"__main__\":\n",
        "    main()\n"
      ]
    }
  ]
}